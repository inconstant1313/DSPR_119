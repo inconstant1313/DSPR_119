{
 "cells": [
  {
   "cell_type": "markdown",
   "metadata": {},
   "source": [
    "### Игра угадай число. Вариант 1: компьютер загадывает число и запрашивает у пользователя ответ, на введенные пользователем данные выдает три реакции:\n",
    "* сообщает, что искомое число больше и запрашивает новое число;\n",
    "* сообщает, что искомое число меньше и запрашивает новое число;\n",
    "* сообщает, что пользователь угадал искомое число и завешает работу программы.\n",
    "### По итогу выдается искомое число и количество попыток, за которое его угадал пользователь."
   ]
  },
  {
   "cell_type": "code",
   "execution_count": 2,
   "metadata": {},
   "outputs": [
    {
     "name": "stdout",
     "output_type": "stream",
     "text": [
      "Число должно быть меньше!\n",
      "Число должно быть меньше!\n",
      "Число должно быть меньше!\n",
      "Число должно быть меньше!\n",
      "Число должно быть больше!\n",
      "Число должно быть больше!\n",
      "Число должно быть меньше!\n",
      "Число должно быть меньше!\n",
      "Вы угадали число! Это число = 22, за 9 попыток\n",
      "You win!!!\n"
     ]
    }
   ],
   "source": [
    "from game import random_game\n",
    "\n",
    "print(random_game())"
   ]
  },
  {
   "cell_type": "markdown",
   "metadata": {},
   "source": [
    "### Игра угадай число. Вариант 2: компьютер сам загадывает и сам угадывает число. При этом варианты ответа компьютер генерирует в случайном порядке без приминения какой-либо стратегии. По итогу получаем среднее количество попыток при 1000 проходов."
   ]
  },
  {
   "cell_type": "code",
   "execution_count": 3,
   "metadata": {},
   "outputs": [
    {
     "name": "stdout",
     "output_type": "stream",
     "text": [
      "Ваш алгоритм угадывает число в среднем за:97 попыток\n"
     ]
    },
    {
     "data": {
      "text/plain": [
       "97"
      ]
     },
     "execution_count": 3,
     "metadata": {},
     "output_type": "execute_result"
    }
   ],
   "source": [
    "from game_v2 import score_game\n",
    "from game_v2 import random_predict\n",
    "\n",
    "score_game(random_predict)"
   ]
  },
  {
   "cell_type": "markdown",
   "metadata": {},
   "source": [
    "### Игра угадай число. Вариант 3: компьютер сам загадывает и сам угадывает число. При этом варианты ответа компьютер генерирует используя Binary search algorithm. По итогу получаем среднее количество попыток при 1000 проходов."
   ]
  },
  {
   "cell_type": "code",
   "execution_count": 4,
   "metadata": {},
   "outputs": [
    {
     "name": "stdout",
     "output_type": "stream",
     "text": [
      "Ваш алгоритм угадывает число в среднем за 5 попыток.\n"
     ]
    },
    {
     "data": {
      "text/plain": [
       "5"
      ]
     },
     "execution_count": 4,
     "metadata": {},
     "output_type": "execute_result"
    }
   ],
   "source": [
    "from game_v3 import score_game\n",
    "from game_v3 import binary_predict\n",
    "\n",
    "score_game(binary_predict)"
   ]
  }
 ],
 "metadata": {
  "kernelspec": {
   "display_name": "Python 3.9.13 64-bit",
   "language": "python",
   "name": "python3"
  },
  "language_info": {
   "codemirror_mode": {
    "name": "ipython",
    "version": 3
   },
   "file_extension": ".py",
   "mimetype": "text/x-python",
   "name": "python",
   "nbconvert_exporter": "python",
   "pygments_lexer": "ipython3",
   "version": "3.9.13"
  },
  "orig_nbformat": 4,
  "vscode": {
   "interpreter": {
    "hash": "bec3d2e5e7188a19b2d41c420bc6b8df20852a4490e3269d6fe51551fefbfe04"
   }
  }
 },
 "nbformat": 4,
 "nbformat_minor": 2
}
